{
 "cells": [
  {
   "cell_type": "markdown",
   "metadata": {},
   "source": [
    "# Computing presentation: STAN\n",
    "\n",
    "## Mamie Wang\n",
    "\n",
    "### Oct 18, 2016"
   ]
  },
  {
   "cell_type": "markdown",
   "metadata": {
    "slideshow": {
     "slide_type": "slide"
    }
   },
   "source": [
    "## STAN\n",
    "\n",
    "* Imperative probabilistic programming language\n",
    "\n",
    "* Domain-specific\n",
    "\n",
    "* A Stan program defines a statistical model through a conditional probability function $p(\\theta \\lvert y, x)$,\n",
    "\n",
    "    where $\\theta =$ sequence of modeled unknown values (e.g. model parameters, latent variables, missing data, future prediction),\n",
    "    \n",
    "    and $y =$ a sequence of modeled known values,\n",
    "    \n",
    "    and $x =$ a sequence of unmodeled predictors and constraints (hyperparameters)\n",
    "\n",
    "[comment]: # (imperative: based on assignment, loop, conditionals, local variables, object-level function application, and array-like data structure, just like C++)\n",
    "[comment]: # (latent variables are as opposed to the observed variables, which are variables not directly observed, but rather inferred from other variables that are obesrved)\n",
    "[comment]: # (hyperparameters are parameters of prior distribution, used to distinguish them from parameters of the model for the underlying system under analysis. For example, if one is using a beta distribution to model the distribution of the parameter p of Bernoulli distribution. The p is a parameter of the underlying system, and alpha, beta are the hyperparameters.)\n",
    "[resources]: # (https://en.wikipedia.org/wiki/Hyperparameter, file:///Users/mwang/Downloads/stan-reference-2.12.0.pdf)\n"
   ]
  },
  {
   "cell_type": "markdown",
   "metadata": {
    "slideshow": {
     "slide_type": "slide"
    }
   },
   "source": [
    "### Typical workflow of statistical modeling using STAN \n",
    "* Example of a latent-mixture model"
   ]
  },
  {
   "cell_type": "markdown",
   "metadata": {
    "slideshow": {
     "slide_type": "subslide"
    }
   },
   "source": [
    "#### Problem statement\n",
    "\n",
    "A group of 15 people sit an exam made up of 40 true-or-false questions, and they get 21, 17, 21, 18, 22, 31, 31, 34, 34, 35, 35, 36, 39, 36, and 35 right. \n",
    "\n",
    "\n",
    "It seems that the first 5 people might just be guessing, but the last 10 at least had some level of knowledge. \n",
    "\n",
    "\n",
    "[comment]: # (A finite mixture model of an outcome assume that the outcome is drawn from one of serveral distributions, controlled by a categorial mixing distribution)\n",
    "[resource]: # (Bayesian Cognitive Modeling: a practical course)"
   ]
  },
  {
   "cell_type": "markdown",
   "metadata": {
    "slideshow": {
     "slide_type": "subslide"
    }
   },
   "source": [
    "#### Make some assumptions \n",
    "\n",
    "* Two different groups of people with different probabilities of success\n",
    "* Assume that the guessing group having a success probability of 0.5, and the knowledge group having a probability greater than 0.5\n",
    "* To simplify the model, no individual differences within group.\n",
    "* The goal is to infer which group each person belongs and the rate of success of the knowledge group."
   ]
  },
  {
   "cell_type": "markdown",
   "metadata": {
    "slideshow": {
     "slide_type": "subslide"
    }
   },
   "source": [
    "#### Construct the model\n",
    "![Graphical Model](graphicalModel.PNG \"Graphical model for inferring memebrship of two latent groups, with different rates of success in answering exam questions (Lee & Wagenmakers, 2013, Fig.6.1, p.77)\")\n",
    "* $n$ = number of total exam questions (40)\n",
    "* $k_i$ = the number of correct answers for the $i$th person\n",
    "* $\\theta_i$ = probability of success on each question for $i$th person, \n",
    "    where $\\theta = \\psi$ for guessing group,\n",
    "    and $\\theta = \\phi$ for knowledge group.\n",
    "* $z_i$ = the binary indictor variable for the group each person belongs (0: guessing group, 1: knowledge group). \n",
    "* Assumptions about priors\n",
    "    * $z_i$ is equally likely to be 0 or 1 => $z_i$ ~ Bernoulli(1/2)\n",
    "    * $\\psi = 1/2$\n",
    "    * $\\phi$ ~ Uniform(0.5, 1)\n",
    "    * $k_i$ ~ Binomial($\\theta_i$, $n$)\n",
    "\n",
    "[comments]: # (Discrete variables are designated by square nodes, continous by circle nodes. White nodes are latent and have to be inferred. Grey nodes are manifest; either observed data or set as constants. Single bordered nodes are stochastic and double bordered are deterministic derived variables.)"
   ]
  },
  {
   "cell_type": "markdown",
   "metadata": {
    "slideshow": {
     "slide_type": "subslide"
    }
   },
   "source": [
    "* Implementation in Stan"
   ]
  },
  {
   "cell_type": "code",
   "execution_count": 60,
   "metadata": {
    "collapsed": false,
    "slideshow": {
     "slide_type": "-"
    }
   },
   "outputs": [
    {
     "name": "stdout",
     "output_type": "stream",
     "text": [
      "\n",
      "SAMPLING FOR MODEL '52c0a5630f330045657b34fc40ad480b' NOW (CHAIN 1).\n",
      "\n",
      "Chain 1, Iteration:     1 / 20000 [  0%]  (Warmup)\n",
      "Chain 1, Iteration:  2000 / 20000 [ 10%]  (Warmup)\n",
      "Chain 1, Iteration:  4000 / 20000 [ 20%]  (Warmup)\n",
      "Chain 1, Iteration:  6000 / 20000 [ 30%]  (Warmup)\n",
      "Chain 1, Iteration:  8000 / 20000 [ 40%]  (Warmup)\n",
      "Chain 1, Iteration: 10000 / 20000 [ 50%]  (Warmup)\n",
      "Chain 1, Iteration: 10001 / 20000 [ 50%]  (Sampling)\n",
      "Chain 1, Iteration: 12000 / 20000 [ 60%]  (Sampling)\n",
      "Chain 1, Iteration: 14000 / 20000 [ 70%]  (Sampling)\n",
      "Chain 1, Iteration: 16000 / 20000 [ 80%]  (Sampling)\n",
      "Chain 1, Iteration: 18000 / 20000 [ 90%]  (Sampling)\n",
      "Chain 1, Iteration: 20000 / 20000 [100%]  (Sampling)\n",
      " Elapsed Time: 0.534411 seconds (Warm-up)\n",
      "               0.528149 seconds (Sampling)\n",
      "               1.06256 seconds (Total)\n",
      "\n",
      "Inference for Stan model: 52c0a5630f330045657b34fc40ad480b.\n",
      "1 chains, each with iter=20000; warmup=10000; thin=1; \n",
      "post-warmup draws per chain=10000, total post-warmup draws=10000.\n",
      "\n",
      "         mean se_mean    sd    2.5%     25%     50%     75%   97.5% n_eff Rhat\n",
      "phi     0.863   0.000 0.017   0.828   0.852   0.864   0.875   0.895  7901    1\n",
      "z[1]    0.000   0.000 0.010   0.000   0.000   0.000   0.000   0.000 10000    1\n",
      "z[2]    0.000   0.000 0.000   0.000   0.000   0.000   0.000   0.000 10000  NaN\n",
      "z[3]    0.000   0.000 0.000   0.000   0.000   0.000   0.000   0.000 10000  NaN\n",
      "z[4]    0.000   0.000 0.000   0.000   0.000   0.000   0.000   0.000 10000  NaN\n",
      "z[5]    0.000   0.000 0.000   0.000   0.000   0.000   0.000   0.000 10000  NaN\n",
      "z[6]    0.993   0.001 0.082   1.000   1.000   1.000   1.000   1.000 10000    1\n",
      "z[7]    0.992   0.001 0.087   1.000   1.000   1.000   1.000   1.000 10000    1\n",
      "z[8]    1.000   0.000 0.000   1.000   1.000   1.000   1.000   1.000 10000  NaN\n",
      "z[9]    1.000   0.000 0.010   1.000   1.000   1.000   1.000   1.000 10000    1\n",
      "z[10]   1.000   0.000 0.000   1.000   1.000   1.000   1.000   1.000 10000  NaN\n",
      "z[11]   1.000   0.000 0.000   1.000   1.000   1.000   1.000   1.000 10000  NaN\n",
      "z[12]   1.000   0.000 0.000   1.000   1.000   1.000   1.000   1.000 10000  NaN\n",
      "z[13]   1.000   0.000 0.000   1.000   1.000   1.000   1.000   1.000 10000  NaN\n",
      "z[14]   1.000   0.000 0.000   1.000   1.000   1.000   1.000   1.000 10000  NaN\n",
      "z[15]   1.000   0.000 0.000   1.000   1.000   1.000   1.000   1.000 10000  NaN\n",
      "lp__  -46.937   0.012 0.756 -49.067 -47.072 -46.660 -46.476 -46.425  4079    1\n",
      "\n",
      "Samples were drawn using NUTS(diag_e) at Mon Oct 17 20:28:10 2016.\n",
      "For each parameter, n_eff is a crude measure of effective sample size,\n",
      "and Rhat is the potential scale reduction factor on split chains (at \n",
      "convergence, Rhat=1).\n"
     ]
    }
   ],
   "source": [
    "library(rstan)\n",
    "options(warn=-1)\n",
    "model <- \"\n",
    "// Exam Scores\n",
    "data { \n",
    "  int<lower=1> p;\n",
    "  int<lower=0> k[p];\n",
    "  int<lower=1> n;\n",
    "}\n",
    "transformed data {\n",
    "  real psi;\n",
    "  // First Group Guesses\n",
    "  psi <- .5;\n",
    "}\n",
    "parameters {\n",
    "  // Second Group Has Some Unknown Greater Rate Of Success\n",
    "  real<lower=.5,upper=1> phi; \n",
    "} \n",
    "transformed parameters {\n",
    "  vector[2] lp_parts[p];\n",
    "  // Data Follow Binomial With Rate Given By Each Person's Group Assignment\n",
    "  for (i in 1:p) {\n",
    "    lp_parts[i,1] <- log(.5) + binomial_log(k[i], n, phi);\n",
    "    lp_parts[i,2] <- log(.5) + binomial_log(k[i], n, psi); \n",
    "  }\n",
    "}\n",
    "model {\n",
    "  for (i in 1:p)\n",
    "    // log_sum_exp(x,y) = log(exp(x) + exp(y))\n",
    "    // increment_log_prob(x) log(p(x))= logZ + x\n",
    "    increment_log_prob(log_sum_exp(lp_parts[i]));  \n",
    "} \n",
    "generated quantities {\n",
    "  int<lower=0,upper=1> z[p];\n",
    "  \n",
    "  for (i in 1:p) {\n",
    "    vector[2] prob;\n",
    "    prob <- softmax(lp_parts[i]);\n",
    "    z[i] <- bernoulli_rng(prob[1]);\n",
    "  }\n",
    "}\"\n",
    "\n",
    "k <- c(21, 17, 21, 18, 22, 31, 31, 34, 34, 35, 35, 36, 39, 36, 35)\n",
    "p <- length(k)  # number of people\n",
    "n <- 40  # number of questions\n",
    "\n",
    "data <- list(p=p, k=k, n=n) # to be passed on to Stan\n",
    "\n",
    "myinits <- list(\n",
    "  list(phi=.75))\n",
    "  \n",
    "parameters <- c(\"phi\", \"z\")  # parameters to be monitored\n",
    "\n",
    "# The following command calls Stan with specific options.\n",
    "samples <- stan(model_code=model,   \n",
    "                data=data, \n",
    "                init=myinits,  # If not specified, gives random inits\n",
    "                pars=parameters,\n",
    "                iter=20000, \n",
    "                chains=1, \n",
    "                thin=1,\n",
    "                # warmup = 100,  # Stands for burn-in; Default = iter/2\n",
    "                # seed = 123  # Setting seed; Default is random seed\n",
    ")\n",
    "# Summary of the posterior distribution\n",
    "options(warn=0)\n",
    "print(samples, digits=3)"
   ]
  },
  {
   "cell_type": "markdown",
   "metadata": {
    "slideshow": {
     "slide_type": "subslide"
    }
   },
   "source": [
    "#### Summary statistics\n",
    "* 95%-posterior-high-density region (i.e. the shortest interval on a posterior density for some given confidence level) of the phi-parameter is 0.828-0.894. \n",
    "* the latent class indicator z indicates the class membership without any error"
   ]
  },
  {
   "cell_type": "markdown",
   "metadata": {
    "slideshow": {
     "slide_type": "slide"
    }
   },
   "source": [
    "## Side notes: MCMC vs. variational Bayes\n",
    "\n",
    "\n",
    "* MCMC gives a numerical approximation of the true posterior  by constructing a reversible Markov-chain that has as its equilibrium distribution the target posterior distribution.\n",
    "    * Pros: asymptotically exact\n",
    "    * Cons: hard to determine if convergence happens, time consuming for large dataset, hard to perform sensitivity analysis\n",
    "\n",
    "[1]: https://en.wikipedia.org/wiki/Markov_chain_Monte_Carlo \"MCMC\"\n",
    "[2]: # (Both can be used to provide an approximation for posterior probability density of unobserved variables.)\n",
    "\n",
    "### Variational Inference\n",
    "* The basic idea is to replace a complicated posterior $p(y | x)$ with a simpler model $q(y)$ (so that we only need to model distribution of y for the x we actually observed)\n",
    "* Faster: variational Bayes approximates the posterior analytically (but it provides a locally-optimal solution).\n",
    "* Sensitivity analysis: A local robustness measure can be easily derived analytically\n",
    "\n",
    "\n",
    "[2]: http://www.cs.jhu.edu/~jason/tutorials/variational.html \"A high level explanation of variational inference\""
   ]
  },
  {
   "cell_type": "markdown",
   "metadata": {
    "slideshow": {
     "slide_type": "slide"
    }
   },
   "source": [
    "References:\n",
    "* Giordano, Ryan, Tamara Broderick, and Michael Jordan. \"Robust Inference with Variational Bayes.\" arXiv preprint [arXiv:1512.02578](https://arxiv.org/abs/1512.02578) (2015).\n",
    "* Giordano, Ryan, et al. \"Fast robustness quantification with variational Bayes.\" arXiv preprint [arXiv:1606.07153](https://arxiv.org/abs/1606.07153) (2016).\n",
    "* [GitHub Repo](https://github.com/rgiordan/MVNMixtureLRVB) for LRVB fitting of multivariate normal mixture model\n"
   ]
  }
 ],
 "metadata": {
  "anaconda-cloud": {},
  "celltoolbar": "Slideshow",
  "kernelspec": {
   "display_name": "R",
   "language": "R",
   "name": "ir"
  },
  "language_info": {
   "codemirror_mode": "r",
   "file_extension": ".r",
   "mimetype": "text/x-r-source",
   "name": "R",
   "pygments_lexer": "r",
   "version": "3.3.1"
  },
  "nbpresent": {
   "slides": {
    "0bb14507-d04c-4484-b218-729e12d3831c": {
     "id": "0bb14507-d04c-4484-b218-729e12d3831c",
     "prev": "ad872076-6711-4a41-b6fd-d61ad69ca12d",
     "regions": {
      "6c66b638-8037-4985-80b1-0bb15a4f04fb": {
       "attrs": {
        "height": 0.8,
        "width": 0.8,
        "x": 0.1,
        "y": 0.1
       },
       "content": {
        "cell": "cb3e6038-3608-40b1-8070-fcf94a7c6fa2",
        "part": "whole"
       },
       "id": "6c66b638-8037-4985-80b1-0bb15a4f04fb"
      }
     }
    },
    "36eb0646-40e5-4ec4-b73a-3c5c56412c85": {
     "id": "36eb0646-40e5-4ec4-b73a-3c5c56412c85",
     "prev": "abfa6f4e-7907-431b-8d2c-8cc7b04ef697",
     "regions": {
      "2bac41a5-f98f-4d89-a3cc-fa9da971427b": {
       "attrs": {
        "height": 0.8,
        "width": 0.8,
        "x": 0.1,
        "y": 0.1
       },
       "content": {
        "cell": "4892ec81-b692-43ed-8c39-ff61c4d6ca2f",
        "part": "whole"
       },
       "id": "2bac41a5-f98f-4d89-a3cc-fa9da971427b"
      }
     }
    },
    "392ba740-0480-432b-bb33-cfe644afca4b": {
     "id": "392ba740-0480-432b-bb33-cfe644afca4b",
     "layout": "grid",
     "prev": "b5a66975-40ff-4703-bb30-15aa5f3b8306",
     "regions": {
      "6d778c42-bae9-4007-a023-6cfda27c73fc": {
       "attrs": {
        "height": 0.4166666666666667,
        "pad": 0.01,
        "width": 0.6664687252573239,
        "x": 0,
        "y": 0
       },
       "id": "6d778c42-bae9-4007-a023-6cfda27c73fc"
      },
      "f6b26906-406d-4c45-aa81-07e80fbe2004": {
       "attrs": {
        "height": 1,
        "pad": 0.01,
        "treemap:weight": 1,
        "width": 1,
        "x": 0,
        "y": 0
       },
       "content": {
        "cell": "f55992a4-6f73-45df-af0b-d8e25d120614",
        "part": "whole"
       },
       "id": "f6b26906-406d-4c45-aa81-07e80fbe2004"
      }
     }
    },
    "72318276-e4f2-4806-9c08-4af3ad9043fe": {
     "id": "72318276-e4f2-4806-9c08-4af3ad9043fe",
     "prev": "0bb14507-d04c-4484-b218-729e12d3831c",
     "regions": {
      "ce73039f-9058-4801-91db-70a3a2fca38c": {
       "attrs": {
        "height": 0.8,
        "width": 0.8,
        "x": 0.1,
        "y": 0.1
       },
       "content": {
        "cell": "ba965b7b-6638-44d4-85dc-8ef3bd299a15",
        "part": "whole"
       },
       "id": "ce73039f-9058-4801-91db-70a3a2fca38c"
      }
     }
    },
    "8bae683e-da82-4c39-9bee-1bb69c9add21": {
     "id": "8bae683e-da82-4c39-9bee-1bb69c9add21",
     "prev": "bd1045ec-6905-41f9-85b4-00ae1b727ef2",
     "regions": {
      "71df393f-e956-4a1f-ac90-1b95c3e4189c": {
       "attrs": {
        "height": 0.8,
        "width": 0.8,
        "x": 0.1,
        "y": 0.1
       },
       "content": {
        "cell": "4cad8be4-23a9-4fa1-860a-17165f0bd438",
        "part": "whole"
       },
       "id": "71df393f-e956-4a1f-ac90-1b95c3e4189c"
      }
     }
    },
    "abfa6f4e-7907-431b-8d2c-8cc7b04ef697": {
     "id": "abfa6f4e-7907-431b-8d2c-8cc7b04ef697",
     "prev": "c6ef9714-9b6a-4df7-b1f2-cedb974d85f0",
     "regions": {
      "908fcae3-b01c-439d-8eb5-b0b018902a31": {
       "attrs": {
        "height": 0.8,
        "width": 0.8,
        "x": 0.1,
        "y": 0.1
       },
       "content": {
        "cell": "dd7c27ef-bee6-4191-8d19-0b57b8dcb52e",
        "part": "whole"
       },
       "id": "908fcae3-b01c-439d-8eb5-b0b018902a31"
      }
     }
    },
    "ad872076-6711-4a41-b6fd-d61ad69ca12d": {
     "id": "ad872076-6711-4a41-b6fd-d61ad69ca12d",
     "prev": "392ba740-0480-432b-bb33-cfe644afca4b",
     "regions": {
      "b6e0d1e5-dc90-47fb-8252-039e2b05dd05": {
       "attrs": {
        "height": 0.8,
        "width": 0.8,
        "x": 0.1,
        "y": 0.1
       },
       "content": {
        "cell": "c989c38b-8aad-41d2-a503-1d5e78539b69",
        "part": "whole"
       },
       "id": "b6e0d1e5-dc90-47fb-8252-039e2b05dd05"
      }
     }
    },
    "b5a66975-40ff-4703-bb30-15aa5f3b8306": {
     "id": "b5a66975-40ff-4703-bb30-15aa5f3b8306",
     "prev": null,
     "regions": {}
    },
    "bd1045ec-6905-41f9-85b4-00ae1b727ef2": {
     "id": "bd1045ec-6905-41f9-85b4-00ae1b727ef2",
     "prev": "72318276-e4f2-4806-9c08-4af3ad9043fe",
     "regions": {
      "dedb29f4-b0b7-4150-ae25-416413323d01": {
       "attrs": {
        "height": 0.8,
        "width": 0.8,
        "x": 0.1,
        "y": 0.1
       },
       "content": {
        "cell": "5ceb00d2-ba3d-4912-af62-175159d9dc0e",
        "part": "whole"
       },
       "id": "dedb29f4-b0b7-4150-ae25-416413323d01"
      }
     }
    },
    "c6ef9714-9b6a-4df7-b1f2-cedb974d85f0": {
     "id": "c6ef9714-9b6a-4df7-b1f2-cedb974d85f0",
     "prev": "8bae683e-da82-4c39-9bee-1bb69c9add21",
     "regions": {
      "5148a0a2-64f5-4ebd-a1f1-979243006c60": {
       "attrs": {
        "height": 0.8,
        "width": 0.8,
        "x": 0.1,
        "y": 0.1
       },
       "content": {
        "cell": "7f01b72e-a1a9-4094-a61e-4cb55ca1f6ff",
        "part": "whole"
       },
       "id": "5148a0a2-64f5-4ebd-a1f1-979243006c60"
      }
     }
    }
   },
   "themes": {}
  }
 },
 "nbformat": 4,
 "nbformat_minor": 1
}
